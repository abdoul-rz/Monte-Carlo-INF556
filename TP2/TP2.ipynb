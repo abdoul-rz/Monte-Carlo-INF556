{
 "cells": [
  {
   "cell_type": "markdown",
   "metadata": {},
   "source": [
    "### MAP556, Ecole Polytechnique, 2023-24"
   ]
  },
  {
   "cell_type": "markdown",
   "metadata": {},
   "source": [
    "\n",
    "# TP2 - Simulation de file d'attentes M/M/1 et M/M/c.\n"
   ]
  },
  {
   "cell_type": "markdown",
   "metadata": {},
   "source": [
    "Dans la nomenclature de Kendall, les files d'attentes M/M/ correspondent à des temps d'arrivées successives indépendants distribués selon une loi exponentielle, et le temps de traitement d'un client dans une file d'attente suit un comportement similaire.\n",
    "\n",
    "Le premier paramètre $\\lambda$ est le nombre moyen d'arrivées par unité de temps. Le deuxième paramètre $\\mu$ est le nombre moyen de clients traités par unité de temps.\n",
    "\n",
    "Le but du TP est de calculer/simuler le nombre moyen de clients dans la file d'attente, et le temps moyen qu'un client reste dans le système avant d'être traité."
   ]
  },
  {
   "cell_type": "markdown",
   "metadata": {},
   "source": [
    "## Exercice 1. Simulation de variables aléatoires dans Python. Loi exponentielle.\n",
    "\n",
    "### 1.1 Fonction de répartition.\n",
    "\n",
    "#### $\\blacktriangleright$ Question [math+code] (a) : Expliquer comment à l'aide de la fonction de répartition $F$ de la loi exponentielle $\\mathcal{E}(\\lambda)$ et d'un échantillon $(U_i)_{1\\leq i\\leq N}$de $N$ variables  i.i.d. de loi uniforme $\\mathcal{U}(0,1)$ peut-on obtenir un échantillon $(E_i)_{1\\leq i\\leq N}$ de $N$ variables  i.i.d. de loi exponentielle $\\mathcal{E}(\\lambda)$ de paramètre $\\lambda$.\n",
    "\n",
    "On pourra utiliser la fonction `numpy.random.rand` pour obtenir les tirages de la loi uniforme."
   ]
  },
  {
   "cell_type": "code",
   "execution_count": 1,
   "metadata": {},
   "outputs": [],
   "source": [
    "import numpy as np\n",
    "import matplotlib.pyplot as plt"
   ]
  },
  {
   "cell_type": "markdown",
   "metadata": {},
   "source": [
    "#### Réponse [math] (a) : \n",
    "Utilisons la méthode de la transformée inverse. \n",
    "\n",
    "L'inverse generalisé de $F$ est tel que: $F^-1(x) = -\\frac{log(1-x)}{\\lambda} \\quad x \\in \\mathbb{R+}$\n",
    "\n",
    "Nous savons que si $U \\sim \\mathcal{U}(0,1)$ alors  $F^-1(U) \\sim \\mathcal{E}(\\lambda)$. Puisque la familles de variables aléatoires $(U_i)_{1\\leq i\\leq N}$ est  i.i.d. de loi uniforme $\\mathcal{U}(0,1)$, il vient que $(F^-1(U_i)=-\\frac{log(1-U_i)}{\\lambda})_{1\\leq i\\leq N}$ est un échantillon de $N$ variables  i.i.d. de loi exponentielle $\\mathcal{E}(\\lambda)$ de paramètre $\\lambda$."
   ]
  },
  {
   "cell_type": "code",
   "execution_count": 2,
   "metadata": {},
   "outputs": [
    {
     "data": {
      "image/png": "[encoded data removed]",
      "text/plain": [
       "<Figure size 432x288 with 1 Axes>"
      ]
     },
     "metadata": {
      "needs_background": "light"
     },
     "output_type": "display_data"
    }
   ],
   "source": [
    "###################################################\n",
    "# Réponse [code] (a) :\n",
    "###################################################\n",
    "\n",
    "N = 100 # Nombre de tirages\n",
    "Uniform = np.random.rand(N) # Tirages independants de la loi uniforme sur [0,1]\n",
    "\n",
    "###################################################\n",
    "## Génération d'un échantillon de loi exponentielle\n",
    "param_lambda = 2\n",
    "Expo = [-np.log(1-x)/param_lambda for x in Uniform]\n",
    "\n",
    "# ATTENTION: la fonction random.exponential prend comme premier argument\n",
    "# la moyenne 1/lambda de la distribution, et non pas son parametre lambda\n",
    "# Expo = np.random.exponential(1/param_lambda, N)\n",
    "\n",
    "###################################################\n",
    "## Affichage de l'échantillon\n",
    "plt.hist(Expo, label=\"Histogramme de l'échantillon\")\n",
    "\n",
    "# On affiche la figure dans la console\n",
    "plt.show()"
   ]
  },
  {
   "cell_type": "markdown",
   "metadata": {},
   "source": [
    "#### $\\blacktriangleright$ Question [code] (a-bis) : Pour pouvoir être utilisé plus tard, on pourra encapsuler le code précédent dans deux fonctions avec comme paramètres le taux d'arrivée $\\lambda$, le taux de traitement $\\mu$, ainsi que la taille de l'échantillon."
   ]
  },
  {
   "cell_type": "code",
   "execution_count": 3,
   "metadata": {},
   "outputs": [],
   "source": [
    "###################################################\n",
    "# Réponse [code] (a-bis) :\n",
    "###################################################\n",
    "\n",
    "def simule_temps_inter_arrivees(taux_arrivee, nombre_total_clients):\n",
    "    return [-np.log(1-x)/taux_arrivee for x in np.random.rand(nombre_total_clients)]\n",
    "\n",
    "def simule_temps_traitement(taux_traitement, nombre_total_clients):\n",
    "    return [-np.log(1-x)/taux_traitement for x in np.random.rand(nombre_total_clients)]"
   ]
  },
  {
   "cell_type": "markdown",
   "metadata": {},
   "source": [
    "#### $\\blacktriangleright$ Question [code] (b) : Tracer une fonction de répartition empirique de l'échantillon obtenu pour vérifier l'adéquation de votre simulation avec la fonction de répartition théorique.\n",
    "On rappelle que la fonction de répartition empirique pour un échantillon $(X_i)_{1\\leq i\\leq N}$ est défini par la formule suivante :\n",
    "$$\n",
    "F_N := x \\mapsto \\frac{1}{N} \\sum_{i=1}^N 1_{X_i \\leq x}\n",
    "$$\n",
    "pour tout $x\\in\\mathbb{R}$.\n",
    "\n",
    "On notera que cet objet est une variable aléatoire contrairement à la fonction de répartition qui est un objet déterministe."
   ]
  },
  {
   "cell_type": "markdown",
   "metadata": {},
   "source": [
    "#### Réponse [code] (b) : \n"
   ]
  },
  {
   "cell_type": "code",
   "execution_count": 4,
   "metadata": {},
   "outputs": [
    {
     "data": {
      "image/png": "[encoded data removed]",
      "text/plain": [
       "<Figure size 432x288 with 1 Axes>"
      ]
     },
     "metadata": {
      "needs_background": "light"
     },
     "output_type": "display_data"
    }
   ],
   "source": [
    "###################################################\n",
    "# Réponse [code] (b) :\n",
    "###################################################\n",
    "\n",
    "##################################################\n",
    "## Calcul de la fonction de répartition empirique\n",
    "x = np.linspace(0,max(Expo),N)\n",
    "Fonc_Rep_Em = [np.mean(Expo <= x_) for x_ in x]\n",
    "\n",
    "###################################################\n",
    "## Affichage des fonctions de répartition\n",
    "x = np.linspace(0,max(Expo),N)\n",
    "Fonc_Rep_Th = 1 - np.exp(-param_lambda * x)\n",
    "\n",
    "plt.step(x, Fonc_Rep_Em, where='post', color=\"b\", label=\"Fonction de répartition empirique\")\n",
    "# L'argument \"where='post'\" permet d'afficher le dernier saut de la fonction de répartition empirique.\n",
    "plt.plot(x, Fonc_Rep_Th, color=\"r\", label=\"Fonction de répartition théorique\")\n",
    "\n",
    "plt.xlabel('Valeurs de E_i')\n",
    "plt.ylabel('Probabilité cumulative')\n",
    "plt.title('Fonction de répartition empirique')\n",
    "plt.legend(loc=\"best\")\n",
    "plt.grid(True)\n",
    "# On affiche la figure dans la console\n",
    "plt.show()"
   ]
  },
  {
   "cell_type": "markdown",
   "metadata": {},
   "source": [
    "#### $\\blacktriangleright$ Question [math] (b - facultative - culture-générale) :  Peut-on caractériser la convergence de $F_N$ vers $F$ ? Et surtout selon quelle notion de convergence ?"
   ]
  },
  {
   "cell_type": "markdown",
   "metadata": {},
   "source": [
    "#### Réponse [math] (b - question facultative - culture générale) :\n",
    "D'après la loi forte des grands nombres, puisque les variables aléatoires $1_{X_i \\leq x}$ ($\\forall x \\in \\mathbb{R}$)  sont i.i.d. donc $F_N$ converge presque sûrement vers $F$ "
   ]
  },
  {
   "cell_type": "markdown",
   "metadata": {},
   "source": [
    "### 1.2 Processus de Poisson et temps d'arrivées.\n",
    "\n",
    "#### $\\blacktriangleright$ Question [code] (c) : Les variables exponentielles génèrent les temps entre deux arrivées successives $T_i$ et $T_{i+1}$ dans la file d'attente : si on note $T_0=0$, alors $T_{i+1}-T_{i} = E_i$, où les $(E_i)$ sont i.i.d. exponentielles de paramètres $\\lambda >0$.\n",
    "\n",
    "#### Construire l'échantillon $(T_i)_{1\\leq i\\leq N}$ à l'aide de l'échantillon $(E_i)_{1\\leq i\\leq N}$ précédemment construit."
   ]
  },
  {
   "cell_type": "markdown",
   "metadata": {},
   "source": [
    "#### Réponse [code] (c) : "
   ]
  },
  {
   "cell_type": "code",
   "execution_count": 5,
   "metadata": {},
   "outputs": [
    {
     "data": {
      "image/png": "[encoded data removed]",
      "text/plain": [
       "<Figure size 432x288 with 1 Axes>"
      ]
     },
     "metadata": {
      "needs_background": "light"
     },
     "output_type": "display_data"
    }
   ],
   "source": [
    "###################################################\n",
    "# Réponse [code] (c) :\n",
    "\n",
    "## Génération d'un échantillon de loi T\n",
    "T = [sum(Expo[:i]) for i in range(len(Expo))]\n",
    "\n",
    "## Affichage de l'échantillon\n",
    "plt.hist(T, label=\"Histogramme de l'échantillon\")\n",
    "\n",
    "# On affiche la figure dans la console\n",
    "plt.show()"
   ]
  },
  {
   "cell_type": "markdown",
   "metadata": {},
   "source": [
    "#### $\\blacktriangleright$ Question [math+code] (d) : Pouvez-vous donner un ordre de grandeur du comportement de $T_N$ lorsque $N$ tend vers $+\\infty$ ? Simulez un échantillon de taille $M$ de variables aléatoires $T_N$ avec $N$ et $M$ grands pour vérifier votre conjecture. On pourra s'appuyer sur les résultats fournis par la loi forte des grand nombres et le théorème central limite."
   ]
  },
  {
   "cell_type": "markdown",
   "metadata": {},
   "source": [
    "#### Réponse [math] (d) : \n",
    "Avec ce qui précède il est clair que:\n",
    "\n",
    "$T_N = \\sum_{i=0}^{N-1} E_i$\n",
    "\n",
    "Ainsi par la loi forte des grands nombres : $ \\frac{T_N}{N} \\overset{p.s.}{\\underset{N\\rightarrow+\\infty}\\longrightarrow} \\mathbb{E}(T_N) = \\frac{1}{\\lambda} $  d'où $\\quad T_N \\underset{N \\to +\\infty}{\\sim} \\frac{N}{\\lambda}$ \n",
    "\n",
    "Aussi d'après le théorème central limite : $\\frac{T_N - \\frac{N}{\\lambda}}{\\sqrt{N\\frac{1}{\\lambda^2}}} \\overset{\\mathcal{L}}{\\underset{N\\rightarrow+\\infty}\\longrightarrow} \\mathcal{N}(0, 1)$ d'où $\\quad T_N \\overset{\\mathcal{L}}{\\underset{N\\rightarrow+\\infty}\\longrightarrow} \\mathcal{N}(\\frac{N}{\\lambda}, \\frac{N}{\\lambda^2}) $ "
   ]
  },
  {
   "cell_type": "code",
   "execution_count": 6,
   "metadata": {},
   "outputs": [
    {
     "data": {
      "text/plain": [
       "<matplotlib.legend.Legend at 0x1940c6e8fa0>"
      ]
     },
     "execution_count": 6,
     "metadata": {},
     "output_type": "execute_result"
    },
    {
     "data": {
      "image/png": "[encoded data removed]",
      "text/plain": [
       "<Figure size 432x288 with 1 Axes>"
      ]
     },
     "metadata": {
      "needs_background": "light"
     },
     "output_type": "display_data"
    }
   ],
   "source": [
    "###################################################\n",
    "# Réponse [code] (d) :\n",
    "# Loi forte des grands nombres.\n",
    "###################################################\n",
    "\n",
    "N = 3000 # Nombre N de variables aléatoires E_i pour calculer T_N.\n",
    "M = 5000 # Taille de l'échantillon pour l'estimation Monte-Carlo.\n",
    "\n",
    "####################################################\n",
    "# Tirages independants de N*M v.a. exponentielles\n",
    "# de parametre lambda=2.\n",
    "param_lambda = 2\n",
    "# ATTENTION: la fonction random.exponential prend comme premier argument\n",
    "# la moyenne 1/lambda de la distribution, et non pas son paramètre lambda.\n",
    "Expo = np.random.exponential(1/param_lambda, (M, N))\n",
    "####################################################\n",
    "# Espérance et variance de la loi exponentielle.\n",
    "esp = 1/param_lambda\n",
    "var = (1/param_lambda)**2\n",
    "\n",
    "####################################################\n",
    "# Stocker dans la variable 'T_N' un echantillon de M valeurs.\n",
    "T_N = np.sum(Expo, axis=1)\n",
    "# Renormaliser la variable 'T_N' pour obtenir une convergence vers une constante.\n",
    "moyT_N = T_N/N\n",
    "# Stocker dans la variable 'erreurNormalisee_N' l'échantillon de M valeurs\n",
    "# de l'erreur normalisée\n",
    "erreurNormalisee_N = (moyT_N - esp) / np.sqrt(var)\n",
    "\n",
    "####################################################\n",
    "# Affichage des valeurs aléatoires et de votre conjecture\n",
    "Conjecture = esp*N\n",
    "plt.plot(T_N, label=\"Estimation T_N\")\n",
    "plt.plot([1,M],[Conjecture,Conjecture],label=\"Conjecture\")\n",
    "plt.legend(loc=\"best\")"
   ]
  },
  {
   "cell_type": "code",
   "execution_count": 7,
   "metadata": {},
   "outputs": [
    {
     "data": {
      "text/plain": [
       "<matplotlib.legend.Legend at 0x194139cccd0>"
      ]
     },
     "execution_count": 7,
     "metadata": {},
     "output_type": "execute_result"
    },
    {
     "data": {
      "image/png": "[encoded data removed]",
      "text/plain": [
       "<Figure size 432x288 with 1 Axes>"
      ]
     },
     "metadata": {
      "needs_background": "light"
     },
     "output_type": "display_data"
    }
   ],
   "source": [
    "###################################################\n",
    "# Réponse [code] (d) :\n",
    "# Théorème Central Limite\n",
    "###################################################\n",
    "\n",
    "N = 3000 # Nombre N de variables aléatoires E_i pour calculer T_N.\n",
    "M = 5000 # Taille de l'échantillon pour l'estimation Monte-Carlo.\n",
    "\n",
    "####################################################\n",
    "# Tirages indépendants de N*M v.a. exponentielles\n",
    "# de paramètre lambda=2.\n",
    "param_lambda = 2\n",
    "# ATTENTION: la fonction random.exponential prend comme premier argument\n",
    "# la moyenne 1/lambda de la distribution, et non pas son paramètre lambda.\n",
    "Expo = np.random.exponential(1/param_lambda, (M, N))\n",
    "\n",
    "####################################################\n",
    "# Espérance et variance de la loi exponentielle.\n",
    "esp = 1/param_lambda\n",
    "var = (1/param_lambda)**2\n",
    "\n",
    "####################################################\n",
    "# Stocker dans la variable 'T_N' un echantillon de M valeurs.\n",
    "T_N = np.sum(Expo, axis=1)\n",
    "# Renormaliser la variable 'T_N' pour obtenir une convergence vers une constante.\n",
    "moyT_N = T_N/N\n",
    "# Stocker dans la variable 'erreurNormalisee_N' l'échantillon de M valeurs\n",
    "# de l'erreur normalisée.\n",
    "erreurNormalisee_N = (moyT_N - esp) / np.sqrt(var/N)\n",
    "####################################################\n",
    "# Affichage\n",
    "plt.hist(erreurNormalisee_N, density=\"True\", bins=int(np.sqrt(M)), label=\"erreur normalisée\")\n",
    "x = np.linspace(-5,5,100)\n",
    "densiteGaussienne = np.exp(-x*x/2.) / np.sqrt(2. * np.pi)\n",
    "\n",
    "plt.plot(x,densiteGaussienne, color=\"red\", label=\"densité gaussienne\", linewidth=2.0)\n",
    "plt.legend(loc=\"best\")"
   ]
  },
  {
   "cell_type": "markdown",
   "metadata": {},
   "source": [
    "## Exercice 2. Simulation d'une file d'attente.\n",
    "### 2.1 Un seul serveur de traitement. File d'attente M/M/1\n",
    "\n",
    "On fixe le taux d'arrivée $\\lambda=2$ et le taux de traitement $\\mu=3$.\n",
    "\n",
    "On rappelle la dynamique d'une file d'attente M/M/1 :\n",
    "- Il n'y a qu'un seul serveur uniquement capable de traiter une personne à la fois.\n",
    "- Quand un nouveau client arrive : \n",
    "-- Si le serveur est libre, alors le serveur traite le client immédiatement. Dès que le client a été traité, il quitte la zone et libère le serveur.\n",
    "-- Si au contraire, le serveur est occupé par un client, le client s'ajoute à la file d'attente en attendant que le serveur se libère.\n",
    "- On précise que la file d'attente est une FIFO (first in, first out)."
   ]
  },
  {
   "cell_type": "markdown",
   "metadata": {},
   "source": [
    "#### $\\blacktriangleright$ Question [code] (a) : Compléter le code suivant qui enregistre les temps d'arrivées et les temps de traitement de 10 clients."
   ]
  },
  {
   "cell_type": "code",
   "execution_count": 8,
   "metadata": {},
   "outputs": [
    {
     "name": "stdout",
     "output_type": "stream",
     "text": [
      "\n",
      "Le client 1 est arrivé à 0.082s, est traité par le serveur en 0.206s, quitte le serveur à 0.288, en ayant attendu 0.000s dans la file d'attente qui possède 1.000 clients en attente quand il sort.\n",
      "\n",
      "Le client 2 est arrivé à 0.210s, est traité par le serveur en 0.076s, quitte le serveur à 0.363, en ayant attendu 0.078s dans la file d'attente qui possède 1.000 clients en attente quand il sort.\n",
      "\n",
      "Le client 3 est arrivé à 0.336s, est traité par le serveur en 0.042s, quitte le serveur à 0.405, en ayant attendu 0.027s dans la file d'attente qui possède 0.000 clients en attente quand il sort.\n",
      "\n",
      "Le client 4 est arrivé à 0.494s, est traité par le serveur en 0.981s, quitte le serveur à 1.475, en ayant attendu 0.000s dans la file d'attente qui possède 2.000 clients en attente quand il sort.\n",
      "\n",
      "Le client 5 est arrivé à 1.236s, est traité par le serveur en 0.620s, quitte le serveur à 2.095, en ayant attendu 0.239s dans la file d'attente qui possède 1.000 clients en attente quand il sort.\n",
      "\n",
      "Le client 6 est arrivé à 1.397s, est traité par le serveur en 0.808s, quitte le serveur à 2.903, en ayant attendu 0.697s dans la file d'attente qui possède 4.000 clients en attente quand il sort.\n",
      "\n",
      "Le client 7 est arrivé à 2.139s, est traité par le serveur en 0.082s, quitte le serveur à 2.985, en ayant attendu 0.764s dans la file d'attente qui possède 3.000 clients en attente quand il sort.\n",
      "\n",
      "Le client 8 est arrivé à 2.525s, est traité par le serveur en 1.001s, quitte le serveur à 3.985, en ayant attendu 0.460s dans la file d'attente qui possède 2.000 clients en attente quand il sort.\n",
      "\n",
      "Le client 9 est arrivé à 2.586s, est traité par le serveur en 0.534s, quitte le serveur à 4.519, en ayant attendu 1.399s dans la file d'attente qui possède 1.000 clients en attente quand il sort.\n",
      "\n",
      "Le client 10 est arrivé à 2.894s, est traité par le serveur en 0.197s, quitte le serveur à 4.717, en ayant attendu 1.626s dans la file d'attente qui possède 0.000 clients en attente quand il sort.\n",
      "\n",
      " Le temps moyen d'attente de ces 10 clients est de 0.529s.\n",
      "\n",
      " Le nombre moyen de clients en attente est de 1.500.\n"
     ]
    }
   ],
   "source": [
    "###################################################\n",
    "# Réponse [code] (a) :\n",
    "###################################################\n",
    "\n",
    "####################################################\n",
    "# Paramètres de la simulation.\n",
    "param_lambda = 2.0  # Taux d'arrivée.\n",
    "param_mu = 3.0  # Taux de traitement.\n",
    "nombre_total_clients = 10  # Nombre total de clients à simuler.\n",
    "\n",
    "####################################################\n",
    "# Génération des temps d'arrivées et de traitement.\n",
    "temps_inter_arrivees = simule_temps_inter_arrivees(param_lambda, nombre_total_clients)\n",
    "temps_traitement = simule_temps_traitement(param_mu, nombre_total_clients)\n",
    "temps_arrivees =  np.cumsum(temps_inter_arrivees) # Les temps d'arrivées des nouveaux clients.\n",
    "\n",
    "####################################################\n",
    "# Initialise les temps de sortie de file et les temps d'attente.\n",
    "temps_sortie = np.zeros(nombre_total_clients) # Le moment où le client sort de la zone\n",
    "temps_attente = np.zeros(nombre_total_clients) # Le temps d'attente dans la file\n",
    "longueur_file = np.zeros(nombre_total_clients) # Pour enregistrer le nombre de clients dans la file d'attente à chaque instant\n",
    "\n",
    "####################################################\n",
    "# Simule la file d'attente M/M/1.\n",
    "for i in range(nombre_total_clients):\n",
    "    if i == 0:\n",
    "        temps_sortie[i] = temps_traitement[i] + temps_arrivees[i]\n",
    "    else:\n",
    "        temps_entree_serveur = max(temps_arrivees[i], temps_sortie[i-1])\n",
    "        temps_sortie[i] = temps_entree_serveur + temps_traitement[i]\n",
    "        temps_attente[i] = temps_entree_serveur - temps_arrivees[i]\n",
    "        \n",
    "    # Calcul du nombre de clients dans la file d'attente à cet instant\n",
    "    longueur_file[i] = max(0, np.searchsorted(temps_arrivees, temps_sortie[i])-i-1)\n",
    "\n",
    "####################################################\n",
    "# Affiche les résultats de la simulation.\n",
    "for i in range(nombre_total_clients):\n",
    "    print(f\"\\nLe client {i+1} est arrivé à {temps_arrivees[i]:.3f}s, \"\n",
    "          f\"est traité par le serveur en {temps_traitement[i]:.3f}s, \"\n",
    "          f\"quitte le serveur à {temps_sortie[i]:.3f}, \"\n",
    "          f\"en ayant attendu {temps_attente[i]:.3f}s dans la file d'attente \"\n",
    "          f\"qui possède {longueur_file[i]:.3f} clients en attente quand il sort.\")\n",
    "    \n",
    "print(f\"\\n Le temps moyen d'attente de ces {nombre_total_clients} clients est de {np.mean(temps_attente):.3f}s.\")    \n",
    "print(f\"\\n Le nombre moyen de clients en attente est de {np.mean(longueur_file):.3f}.\")    \n"
   ]
  },
  {
   "cell_type": "markdown",
   "metadata": {},
   "source": [
    "#### $\\blacktriangleright$ Question [code] (b) : Après avoir encapsulé votre algorithme dans une fonction, estimer le temps moyen d'attente, et le nombre moyen de clients en attente, lorsque le nombre de clients simulés tend vers l'infini à l'aide de votre algorithme précédent.\n",
    "\n",
    "Remarque : Avoir un nombre de clients très grand permet de se placer dans le régime stationnaire. On pourra alors estimer le temps moyen d'attente pour un client arrivant dans une file d'attente stationnaire. A priori, les temps d'attente des premiers clients ne sont effectivement pas significatifs."
   ]
  },
  {
   "cell_type": "code",
   "execution_count": 9,
   "metadata": {},
   "outputs": [],
   "source": [
    "###################################################\n",
    "# Réponse [code] (b) :\n",
    "###################################################\n",
    "\n",
    "####################################################\n",
    "# Fonction de simulation de la file d'attente M/M/1\n",
    "def simuler_mm1(taux_arrivee, taux_traitement, nombre_total_clients):\n",
    "    ####################################################\n",
    "    # Génération des temps d'arrivées et de traitement.\n",
    "    temps_inter_arrivees = simule_temps_inter_arrivees(param_lambda, nombre_total_clients)\n",
    "    temps_traitement = simule_temps_traitement(param_mu, nombre_total_clients)\n",
    "    temps_arrivees =  np.cumsum(temps_inter_arrivees)\n",
    "\n",
    "    ####################################################\n",
    "    # Initialise les temps de sortie de file et les temps d'attente.\n",
    "    temps_sortie = np.zeros(nombre_total_clients)\n",
    "    temps_attente = np.zeros(nombre_total_clients)\n",
    "    longueur_file = np.zeros(nombre_total_clients)\n",
    "    \n",
    "    ####################################################\n",
    "    # Simule la file d'attente M/M/1.\n",
    "    for i in range(nombre_total_clients):\n",
    "        if i == 0:\n",
    "            temps_sortie[i] = temps_traitement[i] + temps_arrivees[i]\n",
    "        else:\n",
    "            temps_entree_serveur = max(temps_arrivees[i], temps_sortie[i-1])\n",
    "            temps_sortie[i] = temps_entree_serveur + temps_traitement[i]\n",
    "            temps_attente[i] = temps_entree_serveur - temps_arrivees[i]\n",
    "        \n",
    "        # Calcul du nombre de clients dans la file d'attente à cet instant\n",
    "        longueur_file[i] = max(0, np.searchsorted(temps_arrivees, temps_sortie[i])-i-1)\n",
    "\n",
    "    return temps_attente, longueur_file"
   ]
  },
  {
   "cell_type": "code",
   "execution_count": 10,
   "metadata": {},
   "outputs": [
    {
     "name": "stdout",
     "output_type": "stream",
     "text": [
      "\n",
      " Le temps moyen d'attente de ces 1000000 clients est de 0.669s.\n",
      "\n",
      " Le nombre moyen de clients en attente est de 2.006.\n"
     ]
    }
   ],
   "source": [
    "nombre_total_clients = 10**6\n",
    "temps_attente, longueur_file = simuler_mm1(param_lambda,param_mu,nombre_total_clients)\n",
    "print(f\"\\n Le temps moyen d'attente de ces {nombre_total_clients} clients est de {np.mean(temps_attente):.3f}s.\")    \n",
    "print(f\"\\n Le nombre moyen de clients en attente est de {np.mean(longueur_file):.3f}.\")"
   ]
  },
  {
   "cell_type": "markdown",
   "metadata": {},
   "source": [
    "#### $\\blacktriangleright$ Question [code] (c) : Estimer le temps moyen d'attente par une procédure Monte-Carlo en réalisant $M$ tirages de votre algorithme précédent (pas forcément avec un grand nombre de clients). Vous pouvez tracer les différentes valeurs obtenues, ainsi qu'un histogramme pour visualiser la loi du temps d'attente."
   ]
  },
  {
   "cell_type": "code",
   "execution_count": 11,
   "metadata": {},
   "outputs": [],
   "source": [
    "###################################################\n",
    "# Réponse [code] (c) :\n",
    "###################################################\n",
    "\n",
    "nombre_total_clients = 10**3\n",
    "nombre_tirages_Monte_Carlo = 10**2 # Nombre de répétitions de votre algorithme.\n",
    "temps_moyen = np.zeros(nombre_tirages_Monte_Carlo)\n",
    "\n",
    "####################################################\n",
    "# Procédure Monte-Carlo pour l'estimation\n",
    "for m in range(nombre_tirages_Monte_Carlo):\n",
    "    temps_moyen[m] = np.mean(simuler_mm1(param_lambda,param_mu,nombre_total_clients)[0])"
   ]
  },
  {
   "cell_type": "code",
   "execution_count": 12,
   "metadata": {},
   "outputs": [
    {
     "data": {
      "text/plain": [
       "<matplotlib.legend.Legend at 0x1940c7dffa0>"
      ]
     },
     "execution_count": 12,
     "metadata": {},
     "output_type": "execute_result"
    },
    {
     "data": {
      "image/png": "[encoded data removed]",
      "text/plain": [
       "<Figure size 432x288 with 1 Axes>"
      ]
     },
     "metadata": {
      "needs_background": "light"
     },
     "output_type": "display_data"
    }
   ],
   "source": [
    "def cummean(x):\n",
    "    return np.cumsum(x) / np.arange(1,len(x)+1)\n",
    "####################################################\n",
    "# Affichage des tirages Monte-Carlo\n",
    "temps_moyen_theorique = param_lambda/param_mu\n",
    "plt.plot(cummean(temps_moyen), label=\"Estimation du temps moyen\")\n",
    "plt.plot([1,nombre_tirages_Monte_Carlo],[temps_moyen_theorique,temps_moyen_theorique],label=\"Temps moyen théorique\")\n",
    "plt.legend(loc=\"best\") "
   ]
  },
  {
   "cell_type": "code",
   "execution_count": 13,
   "metadata": {},
   "outputs": [
    {
     "data": {
      "text/plain": [
       "<matplotlib.legend.Legend at 0x1940c802280>"
      ]
     },
     "execution_count": 13,
     "metadata": {},
     "output_type": "execute_result"
    },
    {
     "data": {
      "image/png": "[encoded data removed]",
      "text/plain": [
       "<Figure size 432x288 with 1 Axes>"
      ]
     },
     "metadata": {
      "needs_background": "light"
     },
     "output_type": "display_data"
    }
   ],
   "source": [
    "####################################################\n",
    "# Visualisation de la loi\n",
    "plt.hist(temps_moyen, density=\"True\", bins=int(15), label=\"Estimation du temps moyen\")\n",
    "plt.plot([temps_moyen_theorique,temps_moyen_theorique],[0,1],label=\"Temps moyen théorique\")\n",
    "plt.legend(loc=\"best\")"
   ]
  },
  {
   "cell_type": "markdown",
   "metadata": {},
   "source": [
    "#### $\\blacktriangleright$ Question [code] (d) : Estimer le nombre moyen de clients dans la file d'attente par une procédure Monte-Carlo en réalisant $M$ tirages de votre algorithme précédent (pas forcément avec un grand nombre de clients). Vous pouvez tracer les différentes valeurs obtenues, ainsi qu'un histogramme pour visualiser la loi du nombre de clients en attente. "
   ]
  },
  {
   "cell_type": "code",
   "execution_count": 14,
   "metadata": {},
   "outputs": [],
   "source": [
    "###################################################\n",
    "# Réponse [code] (d) :\n",
    "###################################################\n",
    "\n",
    "nombre_total_clients = 10**3\n",
    "nombre_tirages_Monte_Carlo = 10**2 # Nombre de répétitions de votre algorithme.\n",
    "nombre_moyen = np.zeros(nombre_tirages_Monte_Carlo)\n",
    "\n",
    "####################################################\n",
    "# Procédure Monte-Carlo pour l'estimation\n",
    "for m in range(nombre_tirages_Monte_Carlo):\n",
    "    nombre_moyen[m] = np.mean(simuler_mm1(param_lambda,param_mu,nombre_total_clients)[1])"
   ]
  },
  {
   "cell_type": "code",
   "execution_count": 15,
   "metadata": {},
   "outputs": [
    {
     "data": {
      "text/plain": [
       "<matplotlib.legend.Legend at 0x1940c8919d0>"
      ]
     },
     "execution_count": 15,
     "metadata": {},
     "output_type": "execute_result"
    },
    {
     "data": {
      "image/png": "[encoded data removed]",
      "text/plain": [
       "<Figure size 432x288 with 1 Axes>"
      ]
     },
     "metadata": {
      "needs_background": "light"
     },
     "output_type": "display_data"
    }
   ],
   "source": [
    "####################################################\n",
    "# Affichage des tirages Monte-Carlo\n",
    "nombre_moyen_theorique = param_lambda/(param_mu-param_lambda)\n",
    "plt.plot(cummean(nombre_moyen), label=\"Estimation du nombre moyen\")\n",
    "plt.plot([1,nombre_tirages_Monte_Carlo],[nombre_moyen_theorique,nombre_moyen_theorique],label=\"Nombre moyen théorique\")\n",
    "plt.legend(loc=\"best\")"
   ]
  },
  {
   "cell_type": "code",
   "execution_count": 16,
   "metadata": {},
   "outputs": [
    {
     "data": {
      "text/plain": [
       "<matplotlib.legend.Legend at 0x1940c8ee9d0>"
      ]
     },
     "execution_count": 16,
     "metadata": {},
     "output_type": "execute_result"
    },
    {
     "data": {
      "image/png": "[encoded data removed]",
      "text/plain": [
       "<Figure size 432x288 with 1 Axes>"
      ]
     },
     "metadata": {
      "needs_background": "light"
     },
     "output_type": "display_data"
    }
   ],
   "source": [
    "####################################################\n",
    "# Visualisation de la loi\n",
    "plt.hist(nombre_moyen, density=\"True\", bins=int(15), label=\"Estimation du nombre moyen\")\n",
    "plt.plot([nombre_moyen_theorique,nombre_moyen_theorique],[0,0.5],label=\"Nombre moyen théorique\")\n",
    "plt.legend(loc=\"best\")"
   ]
  }
 ],
 "metadata": {
  "kernelspec": {
   "display_name": "Python 3",
   "language": "python",
   "name": "python3"
  },
  "language_info": {
   "codemirror_mode": {
    "name": "ipython",
    "version": 3
   },
   "file_extension": ".py",
   "mimetype": "text/x-python",
   "name": "python",
   "nbconvert_exporter": "python",
   "pygments_lexer": "ipython3",
   "version": "3.8.3"
  }
 },
 "nbformat": 4,
 "nbformat_minor": 2
}
